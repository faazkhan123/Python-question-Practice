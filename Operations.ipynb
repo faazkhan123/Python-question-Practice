{
  "cells": [
    {
      "cell_type": "markdown",
      "id": "342ee988",
      "metadata": {
        "id": "342ee988"
      },
      "source": [
        "# Python Question Practice"
      ]
    },
    {
      "cell_type": "markdown",
      "id": "a02abe3f",
      "metadata": {
        "id": "a02abe3f"
      },
      "source": [
        "# String"
      ]
    },
    {
      "cell_type": "code",
      "execution_count": null,
      "id": "8c54d9c3",
      "metadata": {
        "id": "8c54d9c3",
        "outputId": "aaece8f6-f899-4b06-966b-60491af1bc96"
      },
      "outputs": [
        {
          "name": "stdout",
          "output_type": "stream",
          "text": [
            "Name:  Faaz\n",
            "Hello! Faaz\n"
          ]
        }
      ],
      "source": [
        "##1. take name as input and say hello\n",
        "name = input(\"Name:  \")\n",
        "print(\"Hello! {}\".format(name))"
      ]
    },
    {
      "cell_type": "code",
      "execution_count": null,
      "id": "403aa515",
      "metadata": {
        "id": "403aa515",
        "outputId": "76eba9b4-e7ea-42dd-ca9e-00e752cbbf16"
      },
      "outputs": [
        {
          "name": "stdout",
          "output_type": "stream",
          "text": [
            "2\n"
          ]
        }
      ],
      "source": [
        "# 2. From below string print count of \"Is\".\n",
        "string = \"He is Amol and she is Chaitali\"\n",
        "x=string.count(\"is\")\n",
        "print(x)"
      ]
    },
    {
      "cell_type": "code",
      "execution_count": null,
      "id": "48955170",
      "metadata": {
        "id": "48955170",
        "outputId": "127f5b4f-0768-4588-acd7-5a8bd77ef693"
      },
      "outputs": [
        {
          "name": "stdout",
          "output_type": "stream",
          "text": [
            "['Data', 'is', 'new', 'oil']\n"
          ]
        }
      ],
      "source": [
        "# 3. from below string split the words by space\n",
        "string = \"Data is new oil\"\n",
        "x=string.split(\" \")\n",
        "print(x)"
      ]
    },
    {
      "cell_type": "code",
      "execution_count": null,
      "id": "015e2208",
      "metadata": {
        "id": "015e2208",
        "outputId": "44107bcc-7146-4fc4-91da-2272da447d4a"
      },
      "outputs": [
        {
          "name": "stdout",
          "output_type": "stream",
          "text": [
            "Data=is=new=oil\n"
          ]
        }
      ],
      "source": [
        "# 4. now from below list, join all words by \"=\" and create a sentence.\n",
        "list_1 = [\"Data\", \"is\", \"new\", \"oil\"]\n",
        "x='='.join(list_1)\n",
        "print(x)"
      ]
    },
    {
      "cell_type": "code",
      "execution_count": null,
      "id": "258dc840",
      "metadata": {
        "id": "258dc840",
        "outputId": "7cb44126-b790-41f1-d6ec-4d250b2620f3"
      },
      "outputs": [
        {
          "name": "stdout",
          "output_type": "stream",
          "text": [
            "I love programming in Python.\n"
          ]
        }
      ],
      "source": [
        "# 5. from below string replace \"Java\" with \"Python\"\n",
        "sentence = \"I love programming in Java.\"\n",
        "x=sentence.replace(\"Java\",\"Python\")\n",
        "print(x)"
      ]
    },
    {
      "cell_type": "code",
      "execution_count": null,
      "id": "667b9472",
      "metadata": {
        "id": "667b9472",
        "outputId": "d3847e5a-3f16-4a5d-b33b-d1aca7a4735e"
      },
      "outputs": [
        {
          "name": "stdout",
          "output_type": "stream",
          "text": [
            "This is a message with spaces.\n"
          ]
        }
      ],
      "source": [
        "# 6. from below string remove(strip) additional spaces and print it\n",
        "message = \"   This is a message with spaces.   \"\n",
        "x=message.strip(\" \")\n",
        "print(x)"
      ]
    },
    {
      "cell_type": "code",
      "execution_count": null,
      "id": "c21b10c0",
      "metadata": {
        "id": "c21b10c0",
        "outputId": "a88ccac1-2cd2-4f63-a71b-0732c7cb76f1"
      },
      "outputs": [
        {
          "name": "stdout",
          "output_type": "stream",
          "text": [
            "10\n"
          ]
        }
      ],
      "source": [
        "#7. From below string find postion(start index) of \"sample\"\n",
        "sentence = \"This is a sample sentence.\"\n",
        "x=sentence.index(\"sample\")\n",
        "print(x)"
      ]
    },
    {
      "cell_type": "code",
      "execution_count": null,
      "id": "4404a953",
      "metadata": {
        "id": "4404a953",
        "outputId": "ea97c1d1-6577-4cd6-d845-8df44388c228"
      },
      "outputs": [
        {
          "name": "stdout",
          "output_type": "stream",
          "text": [
            "14\n"
          ]
        }
      ],
      "source": [
        "#8. Given the string \"Python is fun!\", how can you calculate and print its length?\n",
        "text = \"Python is fun!\"\n",
        "x=len(text)\n",
        "print(x)"
      ]
    },
    {
      "cell_type": "code",
      "execution_count": null,
      "id": "045a1904",
      "metadata": {
        "id": "045a1904",
        "outputId": "a54b36e3-e8e8-4819-ab9f-b2b42cf73581"
      },
      "outputs": [
        {
          "name": "stdout",
          "output_type": "stream",
          "text": [
            "elppaeniP\n"
          ]
        }
      ],
      "source": [
        "#9. Print below string in reverse order\n",
        "string = \"Pineapple\"\n",
        "x=string[: :-1]\n",
        "print(x)"
      ]
    },
    {
      "cell_type": "code",
      "execution_count": null,
      "id": "8b79c2f9",
      "metadata": {
        "id": "8b79c2f9",
        "outputId": "e73b027f-944b-4994-aee6-204a3e3f0292"
      },
      "outputs": [
        {
          "name": "stdout",
          "output_type": "stream",
          "text": [
            "Welcome To Python Programming.\n"
          ]
        }
      ],
      "source": [
        "#10. Given the string \"Welcome to Python Programming.\", how can you capitalize the first letter of each word and print the modified string?\n",
        "text = \"Welcome to Python Programming.\"\n",
        "x=text.title()\n",
        "print(x)"
      ]
    },
    {
      "cell_type": "code",
      "execution_count": null,
      "id": "ebd17071",
      "metadata": {
        "id": "ebd17071",
        "outputId": "cab91fe5-cbec-4f88-809a-8e47608fdd7a"
      },
      "outputs": [
        {
          "name": "stdout",
          "output_type": "stream",
          "text": [
            "DATA IS NEW OIL\n"
          ]
        }
      ],
      "source": [
        "#11. Convert all letter of string to Upper Case\n",
        "text = \"Data is new oil\"\n",
        "x=text.upper()\n",
        "print(x)"
      ]
    },
    {
      "cell_type": "code",
      "execution_count": null,
      "id": "9c8ac446",
      "metadata": {
        "id": "9c8ac446",
        "outputId": "e5a1058c-ab11-4b4e-d4c3-3f823384d47f"
      },
      "outputs": [
        {
          "name": "stdout",
          "output_type": "stream",
          "text": [
            "I am learning python\n"
          ]
        }
      ],
      "source": [
        "#12. From below string just convert first lettter of string to upper case\n",
        "text = \"i am learning python\"\n",
        "x=text.capitalize()\n",
        "print(x)"
      ]
    },
    {
      "cell_type": "code",
      "execution_count": null,
      "id": "ed5aecb8",
      "metadata": {
        "id": "ed5aecb8",
        "outputId": "e9257d5f-7607-4bc9-d737-e4b6aca2f4c4"
      },
      "outputs": [
        {
          "name": "stdout",
          "output_type": "stream",
          "text": [
            "dAta IS nEw Oil\n"
          ]
        }
      ],
      "source": [
        "#13. Convert all uppper case to lower and lower case to upper\n",
        "text = \"DaTA is NeW oIL\"\n",
        "x=text.swapcase()\n",
        "print(x)\n"
      ]
    },
    {
      "cell_type": "code",
      "execution_count": null,
      "id": "dce2681c",
      "metadata": {
        "id": "dce2681c",
        "outputId": "c3bbfe08-4197-4b22-965b-bfe2cdcbef9d"
      },
      "outputs": [
        {
          "name": "stdout",
          "output_type": "stream",
          "text": [
            "50\n"
          ]
        }
      ],
      "source": [
        "#14. print the addition of below 2 strings\n",
        "a = 20\n",
        "b = 30\n",
        "c=a+ b\n",
        "\n",
        "print(c)"
      ]
    },
    {
      "cell_type": "code",
      "execution_count": null,
      "id": "f674460c",
      "metadata": {
        "id": "f674460c",
        "outputId": "100d7e75-6ad4-4b22-afb0-83f95ccc4efb"
      },
      "outputs": [
        {
          "name": "stdout",
          "output_type": "stream",
          "text": [
            "50\n"
          ]
        }
      ],
      "source": [
        "#15. print the additiono of below 2 strings\n",
        "a = \"20\"\n",
        "b = \"30\"\n",
        "c=int(a)+int(b)\n",
        "print(c)"
      ]
    },
    {
      "cell_type": "markdown",
      "id": "020d7dfa",
      "metadata": {
        "id": "020d7dfa"
      },
      "source": [
        "# List"
      ]
    },
    {
      "cell_type": "code",
      "execution_count": null,
      "id": "effe8645",
      "metadata": {
        "id": "effe8645",
        "outputId": "830779d5-2438-4981-f6e0-00fab3cbb293"
      },
      "outputs": [
        {
          "name": "stdout",
          "output_type": "stream",
          "text": [
            "[1, 2, 3, 44, 5]\n"
          ]
        }
      ],
      "source": [
        "## 16. From below list replace 4 with 44\n",
        "my_list = [1, 2, 3, 4, 5]\n",
        "my_list[3]=44\n",
        "print(my_list)"
      ]
    },
    {
      "cell_type": "code",
      "execution_count": null,
      "id": "de8e082e",
      "metadata": {
        "id": "de8e082e",
        "outputId": "bccf65eb-741c-4987-de70-c42ff680b6c9"
      },
      "outputs": [
        {
          "name": "stdout",
          "output_type": "stream",
          "text": [
            "[1, 2, 3, 200, 4, 5]\n"
          ]
        }
      ],
      "source": [
        "## 17. In below list add(insert) 200 at index 3\n",
        "my_list = [1, 2, 3, 4, 5]\n",
        "my_list.insert(3,200)\n",
        "print(my_list)"
      ]
    },
    {
      "cell_type": "code",
      "execution_count": null,
      "id": "b5b8628c",
      "metadata": {
        "id": "b5b8628c",
        "outputId": "0aecd4fc-fb24-42a7-eb45-61db9706dddf"
      },
      "outputs": [
        {
          "name": "stdout",
          "output_type": "stream",
          "text": [
            "[1, 2, 3, 4, 5, 66]\n"
          ]
        }
      ],
      "source": [
        "## 18. In below list add new number 66\n",
        "my_list = [1, 2, 3, 4, 5]\n",
        "my_list.append(66)\n",
        "print(my_list)"
      ]
    },
    {
      "cell_type": "code",
      "execution_count": null,
      "id": "c762bc30",
      "metadata": {
        "id": "c762bc30",
        "outputId": "d3dc107c-dc24-4b38-d444-16dcf5e3a3dc"
      },
      "outputs": [
        {
          "name": "stdout",
          "output_type": "stream",
          "text": [
            "[1, 2, 3, 4, 5, 66, 87, 99]\n"
          ]
        }
      ],
      "source": [
        "## 19 In below list insert new numbers 66,87,99\n",
        "my_list = [1, 2, 3, 4, 5]\n",
        "my_list.extend([66,87,99])\n",
        "\n",
        "print(my_list)"
      ]
    },
    {
      "cell_type": "code",
      "execution_count": null,
      "id": "74bc0b0a",
      "metadata": {
        "id": "74bc0b0a",
        "outputId": "bdf952b0-b375-4b93-e8dc-823205885d9e"
      },
      "outputs": [
        {
          "name": "stdout",
          "output_type": "stream",
          "text": [
            "[1, 2, 4, 5]\n"
          ]
        }
      ],
      "source": [
        "## 20. from below list remove number 3\n",
        "my_list = [1, 2, 3, 4, 5]\n",
        "my_list.remove(3)\n",
        "print(my_list)"
      ]
    },
    {
      "cell_type": "code",
      "execution_count": null,
      "id": "0095fed6",
      "metadata": {
        "id": "0095fed6",
        "outputId": "4d94c1a7-4513-4d34-a2dc-b2614a7c0d39"
      },
      "outputs": [
        {
          "data": {
            "text/plain": [
              "2"
            ]
          },
          "execution_count": 25,
          "metadata": {},
          "output_type": "execute_result"
        }
      ],
      "source": [
        "## 21. From below list print count of \"cherry\"\n",
        "my_list = [1, 2.5, \"cherry\", 3, \"banana\", 4.0, \"cherry\"]\n",
        "my_list.count(\"cherry\")\n"
      ]
    },
    {
      "cell_type": "code",
      "execution_count": null,
      "id": "2d929328",
      "metadata": {
        "id": "2d929328",
        "outputId": "6f12c4f7-c540-417a-b222-8a36e8963373"
      },
      "outputs": [
        {
          "data": {
            "text/plain": [
              "4"
            ]
          },
          "execution_count": 28,
          "metadata": {},
          "output_type": "execute_result"
        }
      ],
      "source": [
        "## 22. From below list print index of \"banana\"\n",
        "my_list = [1, 2.5, \"apple\", 3, \"banana\", 4.0, \"cherry\"]\n",
        "my_list.index(\"banana\")"
      ]
    },
    {
      "cell_type": "code",
      "execution_count": null,
      "id": "f0749528",
      "metadata": {
        "id": "f0749528",
        "outputId": "673efde5-9dce-47da-d067-df0c992b7bcb"
      },
      "outputs": [
        {
          "name": "stdout",
          "output_type": "stream",
          "text": [
            "['Pune', 'Delhi', 'Mumbai', 'Indore', 'Jaipur']\n"
          ]
        }
      ],
      "source": [
        "## 23. From below list remove last item\n",
        "my_list = [\"Pune\",\"Delhi\",\"Mumbai\",\"Indore\",\"Jaipur\",\"Dehradun\"]\n",
        "my_list.remove(my_list[-1])\n",
        "print(my_list)"
      ]
    },
    {
      "cell_type": "code",
      "execution_count": null,
      "id": "02b3cdd9",
      "metadata": {
        "id": "02b3cdd9",
        "outputId": "d01b7eaf-5766-4762-f8c0-9d54f310ab24"
      },
      "outputs": [
        {
          "name": "stdout",
          "output_type": "stream",
          "text": [
            "['Apple', 'Banana', 'Cherry', 'Grapes', 'Mango']\n"
          ]
        }
      ],
      "source": [
        "## 24. Sort the below list in Alphabetical order\n",
        "my_list = [\"Grapes\",\"Apple\",\"Cherry\",\"Mango\",\"Banana\"]\n",
        "my_list.sort()\n",
        "print(my_list)"
      ]
    },
    {
      "cell_type": "code",
      "execution_count": null,
      "id": "cfd761ff",
      "metadata": {
        "id": "cfd761ff",
        "outputId": "8449b5df-b35c-4355-9d98-54d03b61f29d"
      },
      "outputs": [
        {
          "name": "stdout",
          "output_type": "stream",
          "text": [
            "['Mango', 'Grapes', 'Cherry', 'Banana', 'Apple']\n"
          ]
        }
      ],
      "source": [
        "## 25. Sort below list in reverse Alphabetical order\n",
        "my_list = [\"Grapes\",\"Apple\",\"Cherry\",\"Mango\",\"Banana\"]\n",
        "my_list.sort(reverse=True)\n",
        "print(my_list)"
      ]
    },
    {
      "cell_type": "code",
      "execution_count": null,
      "id": "8427415d",
      "metadata": {
        "colab": {
          "base_uri": "https://localhost:8080/"
        },
        "id": "8427415d",
        "outputId": "f964bd87-3118-4a58-8243-4afcf391abf2"
      },
      "outputs": [
        {
          "output_type": "stream",
          "name": "stdout",
          "text": [
            "[3, 'element number two', ['last', 'element']]\n"
          ]
        }
      ],
      "source": [
        "## 26. Create a list named myList that has three element:\n",
        "  #  the integer 3\n",
        "  #  the string 'element number two'\n",
        "  #  another list['last','element']\n",
        "  #  in that order\n",
        "myList=[3,'element number two',['last','element']]\n",
        "print(myList)\n"
      ]
    },
    {
      "cell_type": "code",
      "source": [
        "## 27. print the third element of the following list.\n",
        "l=[1,2,3,4,5,6,7,8,9]\n",
        "l[2]"
      ],
      "metadata": {
        "colab": {
          "base_uri": "https://localhost:8080/"
        },
        "id": "asK-B08tzd4S",
        "outputId": "a4e20a1c-c11e-41e6-dd29-484c9ac84cb0"
      },
      "id": "asK-B08tzd4S",
      "execution_count": null,
      "outputs": [
        {
          "output_type": "execute_result",
          "data": {
            "text/plain": [
              "3"
            ]
          },
          "metadata": {},
          "execution_count": 4
        }
      ]
    },
    {
      "cell_type": "code",
      "source": [
        "## 28. Modify the last element of this list so that its value is 16.print the modified list so you operation was performed sucessfully.\n",
        "listmodify=['a','b','sixteen']\n",
        "listmodify[-1]=16\n",
        "listmodify"
      ],
      "metadata": {
        "colab": {
          "base_uri": "https://localhost:8080/"
        },
        "id": "66Z4-kem0dHE",
        "outputId": "d68742eb-0822-499a-a246-e33468b56bd0"
      },
      "id": "66Z4-kem0dHE",
      "execution_count": null,
      "outputs": [
        {
          "output_type": "execute_result",
          "data": {
            "text/plain": [
              "['a', 'b', 16]"
            ]
          },
          "metadata": {},
          "execution_count": 6
        }
      ]
    },
    {
      "cell_type": "code",
      "source": [
        "## 29. calculate the length of the following list\n",
        "listlength=['this','is','the','list','whose','length','I','want']\n",
        "len(listlength)"
      ],
      "metadata": {
        "colab": {
          "base_uri": "https://localhost:8080/"
        },
        "id": "o9hCiLrf1GST",
        "outputId": "90088c47-f182-43cf-ffce-554f2b24dced"
      },
      "id": "o9hCiLrf1GST",
      "execution_count": null,
      "outputs": [
        {
          "output_type": "execute_result",
          "data": {
            "text/plain": [
              "8"
            ]
          },
          "metadata": {},
          "execution_count": 7
        }
      ]
    },
    {
      "cell_type": "code",
      "source": [
        "## 30. calculate thesum of the following list\n",
        "intList=[54,678,2890]\n",
        "sum(intList)"
      ],
      "metadata": {
        "colab": {
          "base_uri": "https://localhost:8080/"
        },
        "id": "k_SS9iOb1jFq",
        "outputId": "4ed0cdfe-a10e-48b4-cccb-de896e9d743d"
      },
      "id": "k_SS9iOb1jFq",
      "execution_count": null,
      "outputs": [
        {
          "output_type": "execute_result",
          "data": {
            "text/plain": [
              "3622"
            ]
          },
          "metadata": {},
          "execution_count": 11
        }
      ]
    },
    {
      "cell_type": "code",
      "source": [
        "## 31. findthe maximum value of the following list\n",
        "maxList=[677,53245,234,236,23456,345,23526,3454]\n",
        "max(maxList)"
      ],
      "metadata": {
        "colab": {
          "base_uri": "https://localhost:8080/"
        },
        "id": "NBE1V44F14I6",
        "outputId": "c0f40c52-52b6-4e8e-8d37-071c18339768"
      },
      "id": "NBE1V44F14I6",
      "execution_count": null,
      "outputs": [
        {
          "output_type": "execute_result",
          "data": {
            "text/plain": [
              "53245"
            ]
          },
          "metadata": {},
          "execution_count": 12
        }
      ]
    },
    {
      "cell_type": "code",
      "source": [
        "## 32. find the minimum value of the following list.\n",
        "minList=[351,984,1697,284,134,467,164]\n",
        "min(minList)"
      ],
      "metadata": {
        "colab": {
          "base_uri": "https://localhost:8080/"
        },
        "id": "sDPfbGZS2b8N",
        "outputId": "efe24975-c1d5-4f3b-ae6b-886aa06875a6"
      },
      "id": "sDPfbGZS2b8N",
      "execution_count": null,
      "outputs": [
        {
          "output_type": "execute_result",
          "data": {
            "text/plain": [
              "134"
            ]
          },
          "metadata": {},
          "execution_count": 13
        }
      ]
    },
    {
      "cell_type": "code",
      "source": [
        "## 33. Append the list 'append me!'to the end of the following list.print the list to ensure the operation has been completed sucessfully.\n",
        "listAppend=[1,2,3]\n",
        "listAppend.append('append me!')\n",
        "print(listAppend)"
      ],
      "metadata": {
        "colab": {
          "base_uri": "https://localhost:8080/"
        },
        "id": "ciF1MlvZ2vm2",
        "outputId": "0e85473f-b405-4407-c508-bdeb474f3081"
      },
      "id": "ciF1MlvZ2vm2",
      "execution_count": null,
      "outputs": [
        {
          "output_type": "stream",
          "name": "stdout",
          "text": [
            "[1, 2, 3, 'append me!']\n"
          ]
        }
      ]
    },
    {
      "cell_type": "markdown",
      "source": [
        "## For Loop\n"
      ],
      "metadata": {
        "id": "tRAp2boCWQJ9"
      },
      "id": "tRAp2boCWQJ9"
    },
    {
      "cell_type": "code",
      "source": [
        "## 34. Print the first 10 natural numbers  using for loop\n",
        "for i in range (1,11):\n",
        "      print(i)"
      ],
      "metadata": {
        "id": "4PiD_Ngj3Q78",
        "colab": {
          "base_uri": "https://localhost:8080/"
        },
        "outputId": "4d91e1fd-b87f-4567-87f2-4ba322bbea70"
      },
      "id": "4PiD_Ngj3Q78",
      "execution_count": 4,
      "outputs": [
        {
          "output_type": "stream",
          "name": "stdout",
          "text": [
            "1\n",
            "2\n",
            "3\n",
            "4\n",
            "5\n",
            "6\n",
            "7\n",
            "8\n",
            "9\n",
            "10\n"
          ]
        }
      ]
    },
    {
      "cell_type": "code",
      "source": [
        "## 35. Python program to print all the even numbers within the given range\n",
        "for i in range(1,11):\n",
        "      if i%2==0:\n",
        "          print(i)"
      ],
      "metadata": {
        "colab": {
          "base_uri": "https://localhost:8080/"
        },
        "id": "3J4VT2Az5T56",
        "outputId": "a6745674-775d-476b-e0a3-d35ed4e42fc6"
      },
      "id": "3J4VT2Az5T56",
      "execution_count": 15,
      "outputs": [
        {
          "output_type": "stream",
          "name": "stdout",
          "text": [
            "2\n",
            "4\n",
            "6\n",
            "8\n",
            "10\n"
          ]
        }
      ]
    },
    {
      "cell_type": "code",
      "source": [
        "## 36. Python program to calculate the sum of all numbers from 1 to given number\n",
        "sum=0\n",
        "for i in range(1,11):\n",
        "  sum+=i\n",
        "print(sum)\n"
      ],
      "metadata": {
        "colab": {
          "base_uri": "https://localhost:8080/"
        },
        "id": "CDBoiMcx6My_",
        "outputId": "314f3710-0f32-4825-efc0-189dd5588a04"
      },
      "id": "CDBoiMcx6My_",
      "execution_count": 19,
      "outputs": [
        {
          "output_type": "stream",
          "name": "stdout",
          "text": [
            "55\n"
          ]
        }
      ]
    },
    {
      "cell_type": "code",
      "source": [
        "## 37. Python program to calculate the sum of all the odd numbers within thwe given range\n",
        "sum=0\n",
        "for i in range(1,11):\n",
        "  if i%2!=0:\n",
        "    sum+=i\n",
        "print(sum)"
      ],
      "metadata": {
        "colab": {
          "base_uri": "https://localhost:8080/"
        },
        "id": "OFrGSrz97_j7",
        "outputId": "83f84e99-0aa3-438e-f0c6-6429e0ae5372"
      },
      "id": "OFrGSrz97_j7",
      "execution_count": 25,
      "outputs": [
        {
          "output_type": "stream",
          "name": "stdout",
          "text": [
            "25\n"
          ]
        }
      ]
    },
    {
      "cell_type": "code",
      "source": [
        "## 38. Python program to print a multiplication table of a given number\n",
        "#given range=10\n",
        "given_number=5\n",
        "for i in range(11):\n",
        "  print(given_number,'x',i,'=',5*i)\n"
      ],
      "metadata": {
        "colab": {
          "base_uri": "https://localhost:8080/"
        },
        "id": "8N2ZLyWU83uX",
        "outputId": "44664d5d-9e41-430f-a5f7-f19bc7a3ebe8"
      },
      "id": "8N2ZLyWU83uX",
      "execution_count": 28,
      "outputs": [
        {
          "output_type": "stream",
          "name": "stdout",
          "text": [
            "5 x 0 = 0\n",
            "5 x 1 = 5\n",
            "5 x 2 = 10\n",
            "5 x 3 = 15\n",
            "5 x 4 = 20\n",
            "5 x 5 = 25\n",
            "5 x 6 = 30\n",
            "5 x 7 = 35\n",
            "5 x 8 = 40\n",
            "5 x 9 = 45\n",
            "5 x 10 = 50\n"
          ]
        }
      ]
    },
    {
      "cell_type": "code",
      "source": [
        "## 39. Python program to display numbers from a list using a for loop\n",
        "list=[1,4,6,3,23,54]\n",
        "for i in list:\n",
        "  print(i)"
      ],
      "metadata": {
        "colab": {
          "base_uri": "https://localhost:8080/"
        },
        "id": "W4hWja0b-_Oq",
        "outputId": "4590ac0d-a7eb-420e-8a43-1cc1a79f0e1c"
      },
      "id": "W4hWja0b-_Oq",
      "execution_count": 29,
      "outputs": [
        {
          "output_type": "stream",
          "name": "stdout",
          "text": [
            "1\n",
            "4\n",
            "6\n",
            "3\n",
            "23\n",
            "54\n"
          ]
        }
      ]
    },
    {
      "cell_type": "code",
      "source": [
        "## 40. Python program to count the total number of digits in a number\n",
        "given_number=232433545\n",
        "given_number=str(given_number)\n",
        "count=0\n",
        "for i in given_number:\n",
        "  count+=1\n",
        "print(count)"
      ],
      "metadata": {
        "colab": {
          "base_uri": "https://localhost:8080/"
        },
        "id": "q8952qFm_1Ov",
        "outputId": "67038c46-7f72-45c7-afec-0ef9fefc2d78"
      },
      "id": "q8952qFm_1Ov",
      "execution_count": 33,
      "outputs": [
        {
          "output_type": "stream",
          "name": "stdout",
          "text": [
            "9\n"
          ]
        }
      ]
    },
    {
      "cell_type": "code",
      "source": [
        "## 41. Python program to check if the given string is a palindrome\n",
        "given_string=\"afifa\"\n",
        "reverse_string=\"\"\n",
        "for i in given_string:\n",
        "  reverse_string =i+reverse_string\n",
        "if (given_string==reverse_string):\n",
        "    print(\"The string\",given_string,\"is a Palindrome\")\n",
        "else:\n",
        "    print(\"The string\",given_string,\"is NOT a Palindrome\")"
      ],
      "metadata": {
        "colab": {
          "base_uri": "https://localhost:8080/"
        },
        "id": "K17HMoI4BAbc",
        "outputId": "b860c7d8-3f5a-4001-dcf6-7984b5f3591b"
      },
      "id": "K17HMoI4BAbc",
      "execution_count": 46,
      "outputs": [
        {
          "output_type": "stream",
          "name": "stdout",
          "text": [
            "The string afifa is a Palindrome\n"
          ]
        }
      ]
    },
    {
      "cell_type": "code",
      "source": [
        "## 42. Python program that accepts a word from the user and reverse it\n",
        "user=input('enter the word:' )\n",
        "reverse_string=\"\"\n",
        "for i in user:\n",
        "  reverse_string=i+reverse_string\n",
        "print(reverse_string)"
      ],
      "metadata": {
        "colab": {
          "base_uri": "https://localhost:8080/"
        },
        "id": "MSdCcdcMDfFF",
        "outputId": "3d8629b0-6341-44dd-bcf6-53e8c3b89deb"
      },
      "id": "MSdCcdcMDfFF",
      "execution_count": 49,
      "outputs": [
        {
          "output_type": "stream",
          "name": "stdout",
          "text": [
            "enter the word:faaz\n",
            "zaaf\n"
          ]
        }
      ]
    },
    {
      "cell_type": "code",
      "source": [
        "## 43. Python program to check if a given number is an Armstrong number\n",
        "given_number=153\n",
        "given_number=str(given_number)\n",
        "string_length=len(given_number)\n",
        "sum=0\n",
        "for i in given_number:\n",
        "  sum+=int(i)**string_length\n",
        "print(sum)\n",
        "if sum==int(given_number):\n",
        "  print(\"the given number\",given_number,\"is an Armstrong number\")\n",
        "else:\n",
        "  print(\"the given number\",given_number,\"is NOT an Armstrong number\")"
      ],
      "metadata": {
        "colab": {
          "base_uri": "https://localhost:8080/"
        },
        "id": "4wwVWhCVFa1G",
        "outputId": "b736827c-5bbd-434f-d5e6-8b7f1c4b7b98"
      },
      "id": "4wwVWhCVFa1G",
      "execution_count": 56,
      "outputs": [
        {
          "output_type": "stream",
          "name": "stdout",
          "text": [
            "153\n",
            "the given number 153 is an Armstrong number\n"
          ]
        }
      ]
    },
    {
      "cell_type": "code",
      "source": [
        "## 44. Python program to count the number of even and odd numbers from a series of numbers\n",
        "num_list=[2,32,44,54,56,67,88]\n",
        "for i in num_list:\n",
        "  if i%2==0:\n",
        "    print(i,\"is an even number.\")\n",
        "  else:\n",
        "    print(i,\"is an odd number.\")"
      ],
      "metadata": {
        "colab": {
          "base_uri": "https://localhost:8080/"
        },
        "id": "GqDs-YFKHPqz",
        "outputId": "81d775e3-fb0c-4ca3-8fda-f538e416a03d"
      },
      "id": "GqDs-YFKHPqz",
      "execution_count": 58,
      "outputs": [
        {
          "output_type": "stream",
          "name": "stdout",
          "text": [
            "2 is an even number.\n",
            "32 is an even number.\n",
            "44 is an even number.\n",
            "54 is an even number.\n",
            "56 is an even number.\n",
            "67 is an odd number.\n",
            "88 is an even number.\n"
          ]
        }
      ]
    },
    {
      "cell_type": "code",
      "source": [
        "## 45. Python program to display all number within a range except the prime numbers\n",
        "import math\n",
        "def is_not_prime(n):\n",
        "  flag=False\n",
        "  for i in range (2,int(math.sqrt(n))+1):\n",
        "    if n%i==0:\n",
        "      flag=True\n",
        "  return flag\n",
        "range_starts=20\n",
        "range_ends=40\n",
        "print(\"Non-prime numbers between\",range_starts,\"and\",range_ends,\"are.\")\n",
        "for number in filter (is_not_prime,range(range_starts,range_ends)):\n",
        "  print(number)"
      ],
      "metadata": {
        "colab": {
          "base_uri": "https://localhost:8080/"
        },
        "id": "gOmeE5-FLzWd",
        "outputId": "d7b38de7-aa66-4dc4-cc66-c5ef1a7ace6b"
      },
      "id": "gOmeE5-FLzWd",
      "execution_count": 63,
      "outputs": [
        {
          "output_type": "stream",
          "name": "stdout",
          "text": [
            "Non-prime numbers between 20 and 40 are.\n",
            "20\n",
            "21\n",
            "22\n",
            "24\n",
            "25\n",
            "26\n",
            "27\n",
            "28\n",
            "30\n",
            "32\n",
            "33\n",
            "34\n",
            "35\n",
            "36\n",
            "38\n",
            "39\n"
          ]
        }
      ]
    },
    {
      "cell_type": "code",
      "source": [
        "## 46. Python program to get the Fibonacci series between 0 to 50\n",
        "num=50\n",
        "first_value,second_value=0,1\n",
        "for n in range(0,num):\n",
        "  if(n<=1):\n",
        "    next=n\n",
        "  if nextnum:\n",
        "    break\n",
        "  print(next)"
      ],
      "metadata": {
        "colab": {
          "base_uri": "https://localhost:8080/",
          "height": 245
        },
        "id": "mHEA7ZmVPZzu",
        "outputId": "54164529-c673-429d-f452-744826d20ea7"
      },
      "id": "mHEA7ZmVPZzu",
      "execution_count": 73,
      "outputs": [
        {
          "output_type": "error",
          "ename": "NameError",
          "evalue": "ignored",
          "traceback": [
            "\u001b[0;31m---------------------------------------------------------------------------\u001b[0m",
            "\u001b[0;31mNameError\u001b[0m                                 Traceback (most recent call last)",
            "\u001b[0;32m<ipython-input-73-43ff1f738b54>\u001b[0m in \u001b[0;36m<cell line: 4>\u001b[0;34m()\u001b[0m\n\u001b[1;32m      5\u001b[0m   \u001b[0;32mif\u001b[0m\u001b[0;34m(\u001b[0m\u001b[0mn\u001b[0m\u001b[0;34m<=\u001b[0m\u001b[0;36m1\u001b[0m\u001b[0;34m)\u001b[0m\u001b[0;34m:\u001b[0m\u001b[0;34m\u001b[0m\u001b[0;34m\u001b[0m\u001b[0m\n\u001b[1;32m      6\u001b[0m     \u001b[0mnext\u001b[0m\u001b[0;34m=\u001b[0m\u001b[0mn\u001b[0m\u001b[0;34m\u001b[0m\u001b[0;34m\u001b[0m\u001b[0m\n\u001b[0;32m----> 7\u001b[0;31m   \u001b[0;32mif\u001b[0m \u001b[0mnextnum\u001b[0m\u001b[0;34m:\u001b[0m\u001b[0;34m\u001b[0m\u001b[0;34m\u001b[0m\u001b[0m\n\u001b[0m\u001b[1;32m      8\u001b[0m     \u001b[0;32mbreak\u001b[0m\u001b[0;34m\u001b[0m\u001b[0;34m\u001b[0m\u001b[0m\n\u001b[1;32m      9\u001b[0m   \u001b[0mprint\u001b[0m\u001b[0;34m(\u001b[0m\u001b[0mnext\u001b[0m\u001b[0;34m)\u001b[0m\u001b[0;34m\u001b[0m\u001b[0;34m\u001b[0m\u001b[0m\n",
            "\u001b[0;31mNameError\u001b[0m: name 'nextnum' is not defined"
          ]
        }
      ]
    },
    {
      "cell_type": "code",
      "source": [
        "## 47. Python program to find the factorial of a given number\n",
        "given_number=7\n",
        "factorial=1\n",
        "for i in range(1,given_number+1):\n",
        "  factorial=factorial*i\n",
        "print(\"the factorial of\",given_number,\"is\",factorial)"
      ],
      "metadata": {
        "colab": {
          "base_uri": "https://localhost:8080/"
        },
        "id": "RkhTGa4mRhck",
        "outputId": "c6bee4e1-a25b-4286-c6a9-6a75dd0c8f3b"
      },
      "id": "RkhTGa4mRhck",
      "execution_count": 67,
      "outputs": [
        {
          "output_type": "stream",
          "name": "stdout",
          "text": [
            "the factorial of 7 is 5040\n"
          ]
        }
      ]
    },
    {
      "cell_type": "code",
      "source": [
        "## 48. Python program that accepts a string and calculates the number of digits and letters\n",
        "user_input=input()\n",
        "digits=0\n",
        "letters=0\n",
        "for i in user_input:\n",
        "  if i.isdigit():\n",
        "    digits=digits+1\n",
        "  elif i.isalpha():\n",
        "      letters=letters+1\n",
        "print(\"the input string\",user_input,\"has\",letters,\"letters and\",digits,\"digits.\")"
      ],
      "metadata": {
        "colab": {
          "base_uri": "https://localhost:8080/"
        },
        "id": "2_uSjuH3TPDM",
        "outputId": "cc8e609e-3459-4d53-f0ae-26b425f1ea44"
      },
      "id": "2_uSjuH3TPDM",
      "execution_count": 69,
      "outputs": [
        {
          "output_type": "stream",
          "name": "stdout",
          "text": [
            "fdsfe42343\n",
            "the input string fdsfe42343 has 5 letters and 5 digits.\n"
          ]
        }
      ]
    },
    {
      "cell_type": "code",
      "source": [],
      "metadata": {
        "id": "N-r6saZkUuAi"
      },
      "id": "N-r6saZkUuAi",
      "execution_count": null,
      "outputs": []
    }
  ],
  "metadata": {
    "kernelspec": {
      "display_name": "Python 3",
      "language": "python",
      "name": "python3"
    },
    "language_info": {
      "codemirror_mode": {
        "name": "ipython",
        "version": 3
      },
      "file_extension": ".py",
      "mimetype": "text/x-python",
      "name": "python",
      "nbconvert_exporter": "python",
      "pygments_lexer": "ipython3",
      "version": "3.8.8"
    },
    "colab": {
      "provenance": []
    }
  },
  "nbformat": 4,
  "nbformat_minor": 5
}