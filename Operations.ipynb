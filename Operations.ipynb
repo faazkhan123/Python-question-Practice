## 16. From below list replace 4 with 44
my_list = [1, 2, 3, 4, 5]

## 17. In below list add(insert) 200 at index 3
my_list = [1, 2, 3, 4, 5]

## 18. In below list add new number 66
my_list = [1, 2, 3, 4, 5]

## 19 In below list insert new numbers 66,87,99
my_list = [1, 2, 3, 4, 5]

## 20. from below list remove number 3
my_list = [1, 2, 3, 4, 5]

## 21. From below list print count of "cherry"
my_list = [1, 2.5, "cherry", 3, "banana", 4.0, "cherry"]

## 22. From below list print index of "banana"
my_list = [1, 2.5, "apple", 3, "banana", 4.0, "cherry"]

## 23. From below list remove last item
my_list = ["Pune","Delhi","Mumbai","Indore","Jaipur","Dehradun"]

## 24. Sort the below list in Alphabetical order
my_list = ["Grapes","Apple","Cherry","Mango","Banana"]

## 25. Sort below list in reverse Alphabetical order
my_list = ["Grapes","Apple","Cherry","Mango","Banana"]
