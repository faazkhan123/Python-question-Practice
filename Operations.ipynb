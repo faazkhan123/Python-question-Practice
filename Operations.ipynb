{
  "cells": [
    {
      "cell_type": "markdown",
      "id": "342ee988",
      "metadata": {
        "id": "342ee988"
      },
      "source": [
        "# Python Question Practice"
      ]
    },
    {
      "cell_type": "markdown",
      "id": "a02abe3f",
      "metadata": {
        "id": "a02abe3f"
      },
      "source": [
        "# String"
      ]
    },
    {
      "cell_type": "code",
      "execution_count": null,
      "id": "8c54d9c3",
      "metadata": {
        "id": "8c54d9c3",
        "outputId": "aaece8f6-f899-4b06-966b-60491af1bc96"
      },
      "outputs": [
        {
          "name": "stdout",
          "output_type": "stream",
          "text": [
            "Name:  Faaz\n",
            "Hello! Faaz\n"
          ]
        }
      ],
      "source": [
        "##1. take name as input and say hello\n",
        "name = input(\"Name:  \")\n",
        "print(\"Hello! {}\".format(name))"
      ]
    },
    {
      "cell_type": "code",
      "execution_count": null,
      "id": "403aa515",
      "metadata": {
        "id": "403aa515",
        "outputId": "76eba9b4-e7ea-42dd-ca9e-00e752cbbf16"
      },
      "outputs": [
        {
          "name": "stdout",
          "output_type": "stream",
          "text": [
            "2\n"
          ]
        }
      ],
      "source": [
        "# 2. From below string print count of \"Is\".\n",
        "string = \"He is Amol and she is Chaitali\"\n",
        "x=string.count(\"is\")\n",
        "print(x)"
      ]
    },
    {
      "cell_type": "code",
      "execution_count": null,
      "id": "48955170",
      "metadata": {
        "id": "48955170",
        "outputId": "127f5b4f-0768-4588-acd7-5a8bd77ef693"
      },
      "outputs": [
        {
          "name": "stdout",
          "output_type": "stream",
          "text": [
            "['Data', 'is', 'new', 'oil']\n"
          ]
        }
      ],
      "source": [
        "# 3. from below string split the words by space\n",
        "string = \"Data is new oil\"\n",
        "x=string.split(\" \")\n",
        "print(x)"
      ]
    },
    {
      "cell_type": "code",
      "execution_count": null,
      "id": "015e2208",
      "metadata": {
        "id": "015e2208",
        "outputId": "44107bcc-7146-4fc4-91da-2272da447d4a"
      },
      "outputs": [
        {
          "name": "stdout",
          "output_type": "stream",
          "text": [
            "Data=is=new=oil\n"
          ]
        }
      ],
      "source": [
        "# 4. now from below list, join all words by \"=\" and create a sentence.\n",
        "list_1 = [\"Data\", \"is\", \"new\", \"oil\"]\n",
        "x='='.join(list_1)\n",
        "print(x)"
      ]
    },
    {
      "cell_type": "code",
      "execution_count": null,
      "id": "258dc840",
      "metadata": {
        "id": "258dc840",
        "outputId": "7cb44126-b790-41f1-d6ec-4d250b2620f3"
      },
      "outputs": [
        {
          "name": "stdout",
          "output_type": "stream",
          "text": [
            "I love programming in Python.\n"
          ]
        }
      ],
      "source": [
        "# 5. from below string replace \"Java\" with \"Python\"\n",
        "sentence = \"I love programming in Java.\"\n",
        "x=sentence.replace(\"Java\",\"Python\")\n",
        "print(x)"
      ]
    },
    {
      "cell_type": "code",
      "execution_count": null,
      "id": "667b9472",
      "metadata": {
        "id": "667b9472",
        "outputId": "d3847e5a-3f16-4a5d-b33b-d1aca7a4735e"
      },
      "outputs": [
        {
          "name": "stdout",
          "output_type": "stream",
          "text": [
            "This is a message with spaces.\n"
          ]
        }
      ],
      "source": [
        "# 6. from below string remove(strip) additional spaces and print it\n",
        "message = \"   This is a message with spaces.   \"\n",
        "x=message.strip(\" \")\n",
        "print(x)"
      ]
    },
    {
      "cell_type": "code",
      "execution_count": null,
      "id": "c21b10c0",
      "metadata": {
        "id": "c21b10c0",
        "outputId": "a88ccac1-2cd2-4f63-a71b-0732c7cb76f1"
      },
      "outputs": [
        {
          "name": "stdout",
          "output_type": "stream",
          "text": [
            "10\n"
          ]
        }
      ],
      "source": [
        "#7. From below string find postion(start index) of \"sample\"\n",
        "sentence = \"This is a sample sentence.\"\n",
        "x=sentence.index(\"sample\")\n",
        "print(x)"
      ]
    },
    {
      "cell_type": "code",
      "execution_count": null,
      "id": "4404a953",
      "metadata": {
        "id": "4404a953",
        "outputId": "ea97c1d1-6577-4cd6-d845-8df44388c228"
      },
      "outputs": [
        {
          "name": "stdout",
          "output_type": "stream",
          "text": [
            "14\n"
          ]
        }
      ],
      "source": [
        "#8. Given the string \"Python is fun!\", how can you calculate and print its length?\n",
        "text = \"Python is fun!\"\n",
        "x=len(text)\n",
        "print(x)"
      ]
    },
    {
      "cell_type": "code",
      "execution_count": null,
      "id": "045a1904",
      "metadata": {
        "id": "045a1904",
        "outputId": "a54b36e3-e8e8-4819-ab9f-b2b42cf73581"
      },
      "outputs": [
        {
          "name": "stdout",
          "output_type": "stream",
          "text": [
            "elppaeniP\n"
          ]
        }
      ],
      "source": [
        "#9. Print below string in reverse order\n",
        "string = \"Pineapple\"\n",
        "x=string[: :-1]\n",
        "print(x)"
      ]
    },
    {
      "cell_type": "code",
      "execution_count": null,
      "id": "8b79c2f9",
      "metadata": {
        "id": "8b79c2f9",
        "outputId": "e73b027f-944b-4994-aee6-204a3e3f0292"
      },
      "outputs": [
        {
          "name": "stdout",
          "output_type": "stream",
          "text": [
            "Welcome To Python Programming.\n"
          ]
        }
      ],
      "source": [
        "#10. Given the string \"Welcome to Python Programming.\", how can you capitalize the first letter of each word and print the modified string?\n",
        "text = \"Welcome to Python Programming.\"\n",
        "x=text.title()\n",
        "print(x)"
      ]
    },
    {
      "cell_type": "code",
      "execution_count": null,
      "id": "ebd17071",
      "metadata": {
        "id": "ebd17071",
        "outputId": "cab91fe5-cbec-4f88-809a-8e47608fdd7a"
      },
      "outputs": [
        {
          "name": "stdout",
          "output_type": "stream",
          "text": [
            "DATA IS NEW OIL\n"
          ]
        }
      ],
      "source": [
        "#11. Convert all letter of string to Upper Case\n",
        "text = \"Data is new oil\"\n",
        "x=text.upper()\n",
        "print(x)"
      ]
    },
    {
      "cell_type": "code",
      "execution_count": null,
      "id": "9c8ac446",
      "metadata": {
        "id": "9c8ac446",
        "outputId": "e5a1058c-ab11-4b4e-d4c3-3f823384d47f"
      },
      "outputs": [
        {
          "name": "stdout",
          "output_type": "stream",
          "text": [
            "I am learning python\n"
          ]
        }
      ],
      "source": [
        "#12. From below string just convert first lettter of string to upper case\n",
        "text = \"i am learning python\"\n",
        "x=text.capitalize()\n",
        "print(x)"
      ]
    },
    {
      "cell_type": "code",
      "execution_count": null,
      "id": "ed5aecb8",
      "metadata": {
        "id": "ed5aecb8",
        "outputId": "e9257d5f-7607-4bc9-d737-e4b6aca2f4c4"
      },
      "outputs": [
        {
          "name": "stdout",
          "output_type": "stream",
          "text": [
            "dAta IS nEw Oil\n"
          ]
        }
      ],
      "source": [
        "#13. Convert all uppper case to lower and lower case to upper\n",
        "text = \"DaTA is NeW oIL\"\n",
        "x=text.swapcase()\n",
        "print(x)\n"
      ]
    },
    {
      "cell_type": "code",
      "execution_count": null,
      "id": "dce2681c",
      "metadata": {
        "id": "dce2681c",
        "outputId": "c3bbfe08-4197-4b22-965b-bfe2cdcbef9d"
      },
      "outputs": [
        {
          "name": "stdout",
          "output_type": "stream",
          "text": [
            "50\n"
          ]
        }
      ],
      "source": [
        "#14. print the addition of below 2 strings\n",
        "a = 20\n",
        "b = 30\n",
        "c=a+ b\n",
        "\n",
        "print(c)"
      ]
    },
    {
      "cell_type": "code",
      "execution_count": null,
      "id": "f674460c",
      "metadata": {
        "id": "f674460c",
        "outputId": "100d7e75-6ad4-4b22-afb0-83f95ccc4efb"
      },
      "outputs": [
        {
          "name": "stdout",
          "output_type": "stream",
          "text": [
            "50\n"
          ]
        }
      ],
      "source": [
        "#15. print the additiono of below 2 strings\n",
        "a = \"20\"\n",
        "b = \"30\"\n",
        "c=int(a)+int(b)\n",
        "print(c)"
      ]
    },
    {
      "cell_type": "markdown",
      "id": "020d7dfa",
      "metadata": {
        "id": "020d7dfa"
      },
      "source": [
        "# List"
      ]
    },
    {
      "cell_type": "code",
      "execution_count": null,
      "id": "effe8645",
      "metadata": {
        "id": "effe8645",
        "outputId": "830779d5-2438-4981-f6e0-00fab3cbb293"
      },
      "outputs": [
        {
          "name": "stdout",
          "output_type": "stream",
          "text": [
            "[1, 2, 3, 44, 5]\n"
          ]
        }
      ],
      "source": [
        "## 16. From below list replace 4 with 44\n",
        "my_list = [1, 2, 3, 4, 5]\n",
        "my_list[3]=44\n",
        "print(my_list)"
      ]
    },
    {
      "cell_type": "code",
      "execution_count": null,
      "id": "de8e082e",
      "metadata": {
        "id": "de8e082e",
        "outputId": "bccf65eb-741c-4987-de70-c42ff680b6c9"
      },
      "outputs": [
        {
          "name": "stdout",
          "output_type": "stream",
          "text": [
            "[1, 2, 3, 200, 4, 5]\n"
          ]
        }
      ],
      "source": [
        "## 17. In below list add(insert) 200 at index 3\n",
        "my_list = [1, 2, 3, 4, 5]\n",
        "my_list.insert(3,200)\n",
        "print(my_list)"
      ]
    },
    {
      "cell_type": "code",
      "execution_count": null,
      "id": "b5b8628c",
      "metadata": {
        "id": "b5b8628c",
        "outputId": "0aecd4fc-fb24-42a7-eb45-61db9706dddf"
      },
      "outputs": [
        {
          "name": "stdout",
          "output_type": "stream",
          "text": [
            "[1, 2, 3, 4, 5, 66]\n"
          ]
        }
      ],
      "source": [
        "## 18. In below list add new number 66\n",
        "my_list = [1, 2, 3, 4, 5]\n",
        "my_list.append(66)\n",
        "print(my_list)"
      ]
    },
    {
      "cell_type": "code",
      "execution_count": null,
      "id": "c762bc30",
      "metadata": {
        "id": "c762bc30",
        "outputId": "d3dc107c-dc24-4b38-d444-16dcf5e3a3dc"
      },
      "outputs": [
        {
          "name": "stdout",
          "output_type": "stream",
          "text": [
            "[1, 2, 3, 4, 5, 66, 87, 99]\n"
          ]
        }
      ],
      "source": [
        "## 19 In below list insert new numbers 66,87,99\n",
        "my_list = [1, 2, 3, 4, 5]\n",
        "my_list.extend([66,87,99])\n",
        "\n",
        "print(my_list)"
      ]
    },
    {
      "cell_type": "code",
      "execution_count": null,
      "id": "74bc0b0a",
      "metadata": {
        "id": "74bc0b0a",
        "outputId": "bdf952b0-b375-4b93-e8dc-823205885d9e"
      },
      "outputs": [
        {
          "name": "stdout",
          "output_type": "stream",
          "text": [
            "[1, 2, 4, 5]\n"
          ]
        }
      ],
      "source": [
        "## 20. from below list remove number 3\n",
        "my_list = [1, 2, 3, 4, 5]\n",
        "my_list.remove(3)\n",
        "print(my_list)"
      ]
    },
    {
      "cell_type": "code",
      "execution_count": null,
      "id": "0095fed6",
      "metadata": {
        "id": "0095fed6",
        "outputId": "4d94c1a7-4513-4d34-a2dc-b2614a7c0d39"
      },
      "outputs": [
        {
          "data": {
            "text/plain": [
              "2"
            ]
          },
          "execution_count": 25,
          "metadata": {},
          "output_type": "execute_result"
        }
      ],
      "source": [
        "## 21. From below list print count of \"cherry\"\n",
        "my_list = [1, 2.5, \"cherry\", 3, \"banana\", 4.0, \"cherry\"]\n",
        "my_list.count(\"cherry\")\n"
      ]
    },
    {
      "cell_type": "code",
      "execution_count": null,
      "id": "2d929328",
      "metadata": {
        "id": "2d929328",
        "outputId": "6f12c4f7-c540-417a-b222-8a36e8963373"
      },
      "outputs": [
        {
          "data": {
            "text/plain": [
              "4"
            ]
          },
          "execution_count": 28,
          "metadata": {},
          "output_type": "execute_result"
        }
      ],
      "source": [
        "## 22. From below list print index of \"banana\"\n",
        "my_list = [1, 2.5, \"apple\", 3, \"banana\", 4.0, \"cherry\"]\n",
        "my_list.index(\"banana\")"
      ]
    },
    {
      "cell_type": "code",
      "execution_count": null,
      "id": "f0749528",
      "metadata": {
        "id": "f0749528",
        "outputId": "673efde5-9dce-47da-d067-df0c992b7bcb"
      },
      "outputs": [
        {
          "name": "stdout",
          "output_type": "stream",
          "text": [
            "['Pune', 'Delhi', 'Mumbai', 'Indore', 'Jaipur']\n"
          ]
        }
      ],
      "source": [
        "## 23. From below list remove last item\n",
        "my_list = [\"Pune\",\"Delhi\",\"Mumbai\",\"Indore\",\"Jaipur\",\"Dehradun\"]\n",
        "my_list.remove(my_list[-1])\n",
        "print(my_list)"
      ]
    },
    {
      "cell_type": "code",
      "execution_count": null,
      "id": "02b3cdd9",
      "metadata": {
        "id": "02b3cdd9",
        "outputId": "d01b7eaf-5766-4762-f8c0-9d54f310ab24"
      },
      "outputs": [
        {
          "name": "stdout",
          "output_type": "stream",
          "text": [
            "['Apple', 'Banana', 'Cherry', 'Grapes', 'Mango']\n"
          ]
        }
      ],
      "source": [
        "## 24. Sort the below list in Alphabetical order\n",
        "my_list = [\"Grapes\",\"Apple\",\"Cherry\",\"Mango\",\"Banana\"]\n",
        "my_list.sort()\n",
        "print(my_list)"
      ]
    },
    {
      "cell_type": "code",
      "execution_count": null,
      "id": "cfd761ff",
      "metadata": {
        "id": "cfd761ff",
        "outputId": "8449b5df-b35c-4355-9d98-54d03b61f29d"
      },
      "outputs": [
        {
          "name": "stdout",
          "output_type": "stream",
          "text": [
            "['Mango', 'Grapes', 'Cherry', 'Banana', 'Apple']\n"
          ]
        }
      ],
      "source": [
        "## 25. Sort below list in reverse Alphabetical order\n",
        "my_list = [\"Grapes\",\"Apple\",\"Cherry\",\"Mango\",\"Banana\"]\n",
        "my_list.sort(reverse=True)\n",
        "print(my_list)"
      ]
    },
    {
      "cell_type": "code",
      "execution_count": 2,
      "id": "8427415d",
      "metadata": {
        "colab": {
          "base_uri": "https://localhost:8080/"
        },
        "id": "8427415d",
        "outputId": "f964bd87-3118-4a58-8243-4afcf391abf2"
      },
      "outputs": [
        {
          "output_type": "stream",
          "name": "stdout",
          "text": [
            "[3, 'element number two', ['last', 'element']]\n"
          ]
        }
      ],
      "source": [
        "## 26. Create a list named myList that has three element:\n",
        "  #  the integer 3\n",
        "  #  the string 'element number two'\n",
        "  #  another list['last','element']\n",
        "  #  in that order\n",
        "myList=[3,'element number two',['last','element']]\n",
        "print(myList)\n",
        ""
      ]
    },
    {
      "cell_type": "code",
      "source": [
        "## 27. print the third element of the following list.\n",
        "l=[1,2,3,4,5,6,7,8,9]\n",
        "l[2]"
      ],
      "metadata": {
        "colab": {
          "base_uri": "https://localhost:8080/"
        },
        "id": "asK-B08tzd4S",
        "outputId": "a4e20a1c-c11e-41e6-dd29-484c9ac84cb0"
      },
      "id": "asK-B08tzd4S",
      "execution_count": 4,
      "outputs": [
        {
          "output_type": "execute_result",
          "data": {
            "text/plain": [
              "3"
            ]
          },
          "metadata": {},
          "execution_count": 4
        }
      ]
    },
    {
      "cell_type": "code",
      "source": [
        "## 28. Modify the last element of this list so that its value is 16.print the modified list so you operation was performed sucessfully.\n",
        "listmodify=['a','b','sixteen']\n",
        "listmodify[-1]=16\n",
        "listmodify"
      ],
      "metadata": {
        "colab": {
          "base_uri": "https://localhost:8080/"
        },
        "id": "66Z4-kem0dHE",
        "outputId": "d68742eb-0822-499a-a246-e33468b56bd0"
      },
      "id": "66Z4-kem0dHE",
      "execution_count": 6,
      "outputs": [
        {
          "output_type": "execute_result",
          "data": {
            "text/plain": [
              "['a', 'b', 16]"
            ]
          },
          "metadata": {},
          "execution_count": 6
        }
      ]
    },
    {
      "cell_type": "code",
      "source": [
        "## 29. calculate the length of the following list\n",
        "listlength=['this','is','the','list','whose','length','I','want']\n",
        "len(listlength)"
      ],
      "metadata": {
        "colab": {
          "base_uri": "https://localhost:8080/"
        },
        "id": "o9hCiLrf1GST",
        "outputId": "90088c47-f182-43cf-ffce-554f2b24dced"
      },
      "id": "o9hCiLrf1GST",
      "execution_count": 7,
      "outputs": [
        {
          "output_type": "execute_result",
          "data": {
            "text/plain": [
              "8"
            ]
          },
          "metadata": {},
          "execution_count": 7
        }
      ]
    },
    {
      "cell_type": "code",
      "source": [
        "## 30. calculate thesum of the following list\n",
        "intList=[54,678,2890]\n",
        "sum(intList)"
      ],
      "metadata": {
        "colab": {
          "base_uri": "https://localhost:8080/"
        },
        "id": "k_SS9iOb1jFq",
        "outputId": "4ed0cdfe-a10e-48b4-cccb-de896e9d743d"
      },
      "id": "k_SS9iOb1jFq",
      "execution_count": 11,
      "outputs": [
        {
          "output_type": "execute_result",
          "data": {
            "text/plain": [
              "3622"
            ]
          },
          "metadata": {},
          "execution_count": 11
        }
      ]
    },
    {
      "cell_type": "code",
      "source": [
        "## 31. findthe maximum value of the following list\n",
        "maxList=[677,53245,234,236,23456,345,23526,3454]\n",
        "max(maxList)"
      ],
      "metadata": {
        "colab": {
          "base_uri": "https://localhost:8080/"
        },
        "id": "NBE1V44F14I6",
        "outputId": "c0f40c52-52b6-4e8e-8d37-071c18339768"
      },
      "id": "NBE1V44F14I6",
      "execution_count": 12,
      "outputs": [
        {
          "output_type": "execute_result",
          "data": {
            "text/plain": [
              "53245"
            ]
          },
          "metadata": {},
          "execution_count": 12
        }
      ]
    },
    {
      "cell_type": "code",
      "source": [
        "## 32. find the minimum value of the following list.\n",
        "minList=[351,984,1697,284,134,467,164]\n",
        "min(minList)"
      ],
      "metadata": {
        "colab": {
          "base_uri": "https://localhost:8080/"
        },
        "id": "sDPfbGZS2b8N",
        "outputId": "efe24975-c1d5-4f3b-ae6b-886aa06875a6"
      },
      "id": "sDPfbGZS2b8N",
      "execution_count": 13,
      "outputs": [
        {
          "output_type": "execute_result",
          "data": {
            "text/plain": [
              "134"
            ]
          },
          "metadata": {},
          "execution_count": 13
        }
      ]
    },
    {
      "cell_type": "code",
      "source": [
        "## 33. Append the list 'append me!'to the end of the following list.print the list to ensure the operation has been completed sucessfully.\n",
        "listAppend=[1,2,3]\n",
        "listAppend.append('append me!')\n",
        "print(listAppend)"
      ],
      "metadata": {
        "colab": {
          "base_uri": "https://localhost:8080/"
        },
        "id": "ciF1MlvZ2vm2",
        "outputId": "0e85473f-b405-4407-c508-bdeb474f3081"
      },
      "id": "ciF1MlvZ2vm2",
      "execution_count": 15,
      "outputs": [
        {
          "output_type": "stream",
          "name": "stdout",
          "text": [
            "[1, 2, 3, 'append me!']\n"
          ]
        }
      ]
    },
    {
      "cell_type": "code",
      "source": [],
      "metadata": {
        "id": "4PiD_Ngj3Q78"
      },
      "id": "4PiD_Ngj3Q78",
      "execution_count": null,
      "outputs": []
    }
  ],
  "metadata": {
    "kernelspec": {
      "display_name": "Python 3",
      "language": "python",
      "name": "python3"
    },
    "language_info": {
      "codemirror_mode": {
        "name": "ipython",
        "version": 3
      },
      "file_extension": ".py",
      "mimetype": "text/x-python",
      "name": "python",
      "nbconvert_exporter": "python",
      "pygments_lexer": "ipython3",
      "version": "3.8.8"
    },
    "colab": {
      "provenance": []
    }
  },
  "nbformat": 4,
  "nbformat_minor": 5
}